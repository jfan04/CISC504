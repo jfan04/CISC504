{
 "cells": [
  {
   "cell_type": "code",
   "execution_count": 1,
   "metadata": {
    "scrolled": false
   },
   "outputs": [
    {
     "name": "stdout",
     "output_type": "stream",
     "text": [
      "13\n"
     ]
    }
   ],
   "source": [
    "#(a) High-level language vs. Machine language\n",
    "# High-level language is closer to human languages, easy to understand, thus, High-level language less effective than Machine language\n",
    "\n",
    "#(b) What are some of the advantages and disadvantages of a compiler which you can think of ?\n",
    "# advantages: run fast when reused\n",
    "# disadvantages: compile take times when first time.\n",
    "\n",
    "#(c) What are some of the advantages and disadvantages of an interpreter which you can think of ?\n",
    "# advantages: Safe\n",
    "# disadvantages: different encoding method can easily be messed up  \n",
    "\n",
    "\n",
    "#in this statements, input data type is different from the second one, \n",
    "#this one is Integer, so the print statement computate\n",
    "#them as Integer, which is 10+3.\n",
    "print(10+3)"
   ]
  },
  {
   "cell_type": "code",
   "execution_count": 2,
   "metadata": {
    "scrolled": true
   },
   "outputs": [
    {
     "name": "stdout",
     "output_type": "stream",
     "text": [
      "103\n"
     ]
    }
   ],
   "source": [
    "#Because in python, input data type is String, so statement run it as String\n",
    "#addition which is equivalent to joining/concatenating words\n",
    "print('10'+'3')"
   ]
  },
  {
   "cell_type": "code",
   "execution_count": 16,
   "metadata": {
    "scrolled": true
   },
   "outputs": [
    {
     "name": "stdout",
     "output_type": "stream",
     "text": [
      "3375\n"
     ]
    }
   ],
   "source": [
    "#just for fun\n",
    "def asciiSum (string):\n",
    "    rst = 0\n",
    "    for tmp in string: \n",
    "        for cnt in range(5):\n",
    "            rst += cnt + ord(tmp)\n",
    "    return rst\n",
    "\n",
    "    "
   ]
  },
  {
   "cell_type": "code",
   "execution_count": null,
   "metadata": {},
   "outputs": [],
   "source": [
    "num_map = [(1000, 'M'), (900, 'CM'), (500, 'D'), (400, 'CD'), (100, 'C'), (90, 'XC'),\n",
    "           (50, 'L'), (40, 'XL'), (10, 'X'), (9, 'IX'), (5, 'V'), (4, 'IV'), (1, 'I')]\n",
    "\n",
    "\n",
    "def num2roman(num):\n",
    "\n",
    "    roman = ''\n",
    "\n",
    "    while num > 0:\n",
    "        for i, r in num_map:\n",
    "            while num >= i:\n",
    "                roman += r\n",
    "                num -= i\n",
    "\n",
    "    return roman"
   ]
  }
 ],
 "metadata": {
  "kernelspec": {
   "display_name": "Python 3",
   "language": "python",
   "name": "python3"
  },
  "language_info": {
   "codemirror_mode": {
    "name": "ipython",
    "version": 3
   },
   "file_extension": ".py",
   "mimetype": "text/x-python",
   "name": "python",
   "nbconvert_exporter": "python",
   "pygments_lexer": "ipython3",
   "version": "3.7.0"
  }
 },
 "nbformat": 4,
 "nbformat_minor": 2
}
