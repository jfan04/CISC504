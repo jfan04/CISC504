{
 "cells": [
  {
   "cell_type": "code",
   "execution_count": 1,
   "metadata": {},
   "outputs": [
    {
     "name": "stdout",
     "output_type": "stream",
     "text": [
      "Enter the initial principal: 100\n",
      "Enter the annualized interest rate: .06\n",
      "The amount in 10 years is: 179.08476965428542\n",
      "This program calculates the future value of a 10-year investment.\n"
     ]
    }
   ],
   "source": [
    " # Modified and coded version of Zelle Future Value example listed in Chapter 2\n",
    "principal = float(input('Enter the initial principal: '))\n",
    "apr = float(input('Enter the annualized interest rate: '))\n",
    "def main(): print ('This program calculates the future value of a 10-year investment.')\n",
    "for i in range(10):principal = principal * (1 + apr)\n",
    "print ('The amount in 10 years is:', principal)\n",
    "\n",
    "main()\n",
    "\n",
    "\n",
    "#Name: principal\n",
    "#expression: principal * (1 + apr)\n",
    "#output statement: print ('The amount in 10 years is:', principal)\n",
    "#a simple variable assignment: principal = principal * (1 + apr)"
   ]
  },
  {
   "cell_type": "code",
   "execution_count": null,
   "metadata": {},
   "outputs": [],
   "source": [
    "#requirements : Given an integer, convert it to a roman numeral. \n",
    "#specifications : Input is guaranteed to be within the range from 1 to 3999.\n",
    "\n",
    "# flow chart: input num -> loop (find the largest roman string and adds up   -> nums minus largest number -> \n",
    "# find anothert largest roman string and adds up) -> until num equals to 0\n",
    "\n",
    "\n",
    "# init a num roman map for comparision\n",
    "num_map = [(1000, 'M'), (900, 'CM'), (500, 'D'), (400, 'CD'), (100, 'C'), (90, 'XC'),\n",
    "           (50, 'L'), (40, 'XL'), (10, 'X'), (9, 'IX'), (5, 'V'), (4, 'IV'), (1, 'I')]\n",
    "\n",
    "\n",
    "def num2roman(num):\n",
    "\n",
    "    roman = ''\n",
    "\n",
    "    while num > 0:\n",
    "        for i, r in num_map:\n",
    "            #loop num_map and convert the num into Roman Str\n",
    "            while num >= i:\n",
    "                # Adds up Roman str\n",
    "                roman += r\n",
    "                # minus largest number\n",
    "                num -= i \n",
    "\n",
    "    return roman"
   ]
  }
 ],
 "metadata": {
  "kernelspec": {
   "display_name": "Python 3",
   "language": "python",
   "name": "python3"
  },
  "language_info": {
   "codemirror_mode": {
    "name": "ipython",
    "version": 3
   },
   "file_extension": ".py",
   "mimetype": "text/x-python",
   "name": "python",
   "nbconvert_exporter": "python",
   "pygments_lexer": "ipython3",
   "version": "3.7.0"
  }
 },
 "nbformat": 4,
 "nbformat_minor": 2
}
